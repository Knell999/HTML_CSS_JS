{
  "nbformat": 4,
  "nbformat_minor": 0,
  "metadata": {
    "colab": {
      "provenance": [],
      "include_colab_link": true
    },
    "kernelspec": {
      "name": "python3",
      "display_name": "Python 3"
    },
    "language_info": {
      "name": "python"
    }
  },
  "cells": [
    {
      "cell_type": "markdown",
      "metadata": {
        "id": "view-in-github",
        "colab_type": "text"
      },
      "source": [
        "<a href=\"https://colab.research.google.com/github/Knell999/HTML_CSS_JS/blob/main/Chapter_1_%EA%B8%B0%EC%B4%88/01_%ED%8C%8C%EC%9D%B4%EC%8D%AC/01_Notebook_%EC%82%AC%EC%9A%A9_%EB%B0%A9%EB%B2%95.ipynb\" target=\"_parent\"><img src=\"https://colab.research.google.com/assets/colab-badge.svg\" alt=\"Open In Colab\"/></a>"
      ]
    },
    {
      "cell_type": "code",
      "execution_count": null,
      "metadata": {
        "id": "E8eZ-j370M7m"
      },
      "outputs": [],
      "source": [
        "a = 10"
      ]
    },
    {
      "cell_type": "code",
      "source": [
        "print(a)"
      ],
      "metadata": {
        "colab": {
          "base_uri": "https://localhost:8080/"
        },
        "id": "L4T1ZJN31XKr",
        "outputId": "823d19c8-3b0e-47c8-82a0-fd9c2bdcd299"
      },
      "execution_count": null,
      "outputs": [
        {
          "output_type": "stream",
          "name": "stdout",
          "text": [
            "10\n"
          ]
        }
      ]
    },
    {
      "cell_type": "code",
      "source": [
        "a"
      ],
      "metadata": {
        "colab": {
          "base_uri": "https://localhost:8080/"
        },
        "id": "-jGDKwlF1nEY",
        "outputId": "3ede9f6b-a293-4016-8dad-0ae35b0cdd2d"
      },
      "execution_count": null,
      "outputs": [
        {
          "output_type": "execute_result",
          "data": {
            "text/plain": [
              "10"
            ]
          },
          "metadata": {},
          "execution_count": 3
        }
      ]
    },
    {
      "cell_type": "code",
      "source": [
        "print(a)\n",
        "print(\"Bye\")"
      ],
      "metadata": {
        "colab": {
          "base_uri": "https://localhost:8080/"
        },
        "id": "BLReSCW01yeE",
        "outputId": "5a1853cd-ff2a-42c5-e273-48d57f48255e"
      },
      "execution_count": null,
      "outputs": [
        {
          "output_type": "stream",
          "name": "stdout",
          "text": [
            "10\n",
            "Bye\n"
          ]
        }
      ]
    },
    {
      "cell_type": "markdown",
      "source": [
        "# 노트북 사용 방법\n",
        "마크다운에서 제목을 써봄"
      ],
      "metadata": {
        "id": "ZG2wNsv51_OH"
      }
    },
    {
      "cell_type": "markdown",
      "source": [
        "## 중제목을 적는 구간\n",
        "아까 대 제목 보다는 조금 작죠?"
      ],
      "metadata": {
        "id": "ZluotJ4q2xS9"
      }
    },
    {
      "cell_type": "markdown",
      "source": [
        "# LaTex 알아보기"
      ],
      "metadata": {
        "id": "gafZkXwR2-lc"
      }
    },
    {
      "cell_type": "markdown",
      "source": [
        "## 인라인 수식\n",
        "인라인 수식은 마크다운 작성 중간에 들어가는 수식.$a+b=5$"
      ],
      "metadata": {
        "id": "L2bwqj8r3zQY"
      }
    },
    {
      "cell_type": "markdown",
      "source": [
        "## 블록 수식\n",
        "블록 수식은 하나의 칸을 모두 사용하여 수식을 작성\n",
        "$$\n",
        "a=3, b=4, a+b=7\n",
        "$$"
      ],
      "metadata": {
        "id": "upmmQHin38fp"
      }
    },
    {
      "cell_type": "code",
      "source": [],
      "metadata": {
        "id": "-AGrleXn4n8g"
      },
      "execution_count": null,
      "outputs": []
    }
  ]
}