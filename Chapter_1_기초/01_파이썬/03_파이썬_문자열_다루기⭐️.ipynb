{
  "nbformat": 4,
  "nbformat_minor": 0,
  "metadata": {
    "colab": {
      "provenance": [],
      "include_colab_link": true
    },
    "kernelspec": {
      "name": "python3",
      "display_name": "Python 3"
    },
    "language_info": {
      "name": "python"
    }
  },
  "cells": [
    {
      "cell_type": "markdown",
      "metadata": {
        "id": "view-in-github",
        "colab_type": "text"
      },
      "source": [
        "<a href=\"https://colab.research.google.com/github/Knell999/HTML_CSS_JS/blob/main/Chapter_1_%EA%B8%B0%EC%B4%88/01_%ED%8C%8C%EC%9D%B4%EC%8D%AC/03_%ED%8C%8C%EC%9D%B4%EC%8D%AC_%EB%AC%B8%EC%9E%90%EC%97%B4_%EB%8B%A4%EB%A3%A8%EA%B8%B0%E2%AD%90%EF%B8%8F.ipynb\" target=\"_parent\"><img src=\"https://colab.research.google.com/assets/colab-badge.svg\" alt=\"Open In Colab\"/></a>"
      ]
    },
    {
      "cell_type": "markdown",
      "source": [
        "# 문자열이란?\n",
        "  - 문자들이 열거(나열) 되어 있으면 문자열(`str`)\n",
        "  - 열거(나열)가 되어 있다? **연속**되어 있다. **순서**가 있다.\n",
        "    - **`Sequence`**라고 한다!\n",
        "  * 여러 개의 문자를 순서대로 나열한 것\n",
        "  * 순서가 있다? **순번**이 있다.\n",
        "  * 순번을 **`index`**라고 한다\n",
        "  * 문자열은 문자의 `Sequence`다"
      ],
      "metadata": {
        "id": "i4iv2QB6cEPm"
      }
    },
    {
      "cell_type": "code",
      "source": [
        "name1 = \"minho1\"\n",
        "name2 = \"minho2\""
      ],
      "metadata": {
        "id": "yk8VzpqmccAX"
      },
      "execution_count": null,
      "outputs": []
    },
    {
      "cell_type": "markdown",
      "source": [
        "# 이스케이프 문자"
      ],
      "metadata": {
        "id": "Xfno5OdSeOzd"
      }
    },
    {
      "cell_type": "code",
      "source": [
        "# 이스케이프 문자는 백슬러시(\\)를 사용하는 특수한 문자\n",
        "text = \"제 이름은 \\\"소민호\\\"입니다.\" # Error\n",
        "print(text)"
      ],
      "metadata": {
        "colab": {
          "base_uri": "https://localhost:8080/"
        },
        "id": "vavCpWjXeA5C",
        "outputId": "3d743eb3-914e-4ce3-b121-b338c8d457d7"
      },
      "execution_count": null,
      "outputs": [
        {
          "output_type": "stream",
          "name": "stdout",
          "text": [
            "제 이름은 \"소민호\"입니다.\n"
          ]
        }
      ]
    },
    {
      "cell_type": "code",
      "source": [
        "# 개행을 위한 이스케이프 문자 (\\n)\n",
        "text = \"안녕하세요.\\n반갑습니다.\"\n",
        "print(text)"
      ],
      "metadata": {
        "colab": {
          "base_uri": "https://localhost:8080/"
        },
        "id": "CDsbMytQep0d",
        "outputId": "2fbba999-4f1f-44a0-d02e-4208b28ec681"
      },
      "execution_count": null,
      "outputs": [
        {
          "output_type": "stream",
          "name": "stdout",
          "text": [
            "안녕하세요.\n",
            "반갑습니다.\n"
          ]
        }
      ]
    },
    {
      "cell_type": "code",
      "source": [
        "# 탭을 위한 이스케이프 문자(\\t)\n",
        "text = \"안녕하세요.\\t\\t반갑습니다.\"\n",
        "print(text)"
      ],
      "metadata": {
        "colab": {
          "base_uri": "https://localhost:8080/"
        },
        "id": "tMdqlcmye8-p",
        "outputId": "ede4984f-461b-4ee3-d273-5d5f52fea9d0"
      },
      "execution_count": null,
      "outputs": [
        {
          "output_type": "stream",
          "name": "stdout",
          "text": [
            "안녕하세요.\t\t반갑습니다.\n"
          ]
        }
      ]
    },
    {
      "cell_type": "markdown",
      "source": [
        "## Doc String\n",
        "따옴표를 3개 이어서 쓰면 된다. `'''문자열'''`, `\"\"\"문자열\"\"\"`. Doc String 안에 위치한 문자열은 무조건 적은대로 표현이 된다."
      ],
      "metadata": {
        "id": "5ftB0Uc6fGoA"
      }
    },
    {
      "cell_type": "code",
      "source": [
        "text = '''I said, I'm Student'''\n",
        "print(text)"
      ],
      "metadata": {
        "colab": {
          "base_uri": "https://localhost:8080/"
        },
        "id": "650a9EqigaEI",
        "outputId": "d6601844-5488-47f9-bec6-7febcb1930db"
      },
      "execution_count": null,
      "outputs": [
        {
          "output_type": "stream",
          "name": "stdout",
          "text": [
            "I said, I'm Student\n"
          ]
        }
      ]
    },
    {
      "cell_type": "code",
      "source": [
        "text = \"\"\"안녕\n",
        "하세요\n",
        "반갑\n",
        "습니다.\n",
        "\"\"\"\n",
        "\n",
        "print(text)"
      ],
      "metadata": {
        "colab": {
          "base_uri": "https://localhost:8080/"
        },
        "id": "zXPexb-bg6sT",
        "outputId": "67edd44e-7f58-4994-c901-c86ba3f28187"
      },
      "execution_count": null,
      "outputs": [
        {
          "output_type": "stream",
          "name": "stdout",
          "text": [
            "안녕\n",
            "하세요\n",
            "반갑\n",
            "습니다.\n",
            "\n"
          ]
        }
      ]
    },
    {
      "cell_type": "code",
      "source": [
        "text"
      ],
      "metadata": {
        "colab": {
          "base_uri": "https://localhost:8080/",
          "height": 36
        },
        "id": "fwuurSolhqBf",
        "outputId": "8013e70f-1880-491a-9ffb-7767f9a43ea7"
      },
      "execution_count": null,
      "outputs": [
        {
          "output_type": "execute_result",
          "data": {
            "text/plain": [
              "'안녕\\n하세요\\n반갑\\n습니다.\\n'"
            ],
            "application/vnd.google.colaboratory.intrinsic+json": {
              "type": "string"
            }
          },
          "metadata": {},
          "execution_count": 47
        }
      ]
    },
    {
      "cell_type": "markdown",
      "source": [
        "# 시퀀스 다루기\n",
        "* 문자열은 **`Sequence`**\n",
        "* Sequence는 **순번이 있다**\n",
        "  * 순번을 **Offset Index**\n",
        "* 파이썬의 인덱스는 두 종류가 있다.\n",
        "  * 양수 인덱스\n",
        "    - 0 부터 시작한다.\n",
        "    - 왼쪽에서 오른쪽으로 1씩 증가\n",
        "  * 음수 인덱스\n",
        "    - -1 부터 시작한다.\n",
        "    - 오른쪽에서 왼쪽으로 1씩 감소\n",
        "* 인덱스는 무조건 **정수**이다."
      ],
      "metadata": {
        "id": "j3YhWc3khspi"
      }
    },
    {
      "cell_type": "code",
      "source": [
        "text = \"Hello Hahkyung\"\n",
        "print(text)"
      ],
      "metadata": {
        "colab": {
          "base_uri": "https://localhost:8080/"
        },
        "id": "6ZuYTzeXh4Yr",
        "outputId": "6e299fdf-fdb8-45ad-8bba-aad0424381cf"
      },
      "execution_count": null,
      "outputs": [
        {
          "output_type": "stream",
          "name": "stdout",
          "text": [
            "Hello Hahkyung\n"
          ]
        }
      ]
    },
    {
      "cell_type": "code",
      "source": [
        "# 시퀀스의 크기(길이)를 잴 수 있는 함수 - len\n",
        "len(text) # text의 길이를 확인"
      ],
      "metadata": {
        "colab": {
          "base_uri": "https://localhost:8080/"
        },
        "id": "MNQMD6oyi_yP",
        "outputId": "4ad9a921-d5b4-48b6-ad80-d7453bb5e64d"
      },
      "execution_count": null,
      "outputs": [
        {
          "output_type": "execute_result",
          "data": {
            "text/plain": [
              "14"
            ]
          },
          "metadata": {},
          "execution_count": 49
        }
      ]
    },
    {
      "cell_type": "code",
      "source": [
        "# a = 10\n",
        "# len(a)"
      ],
      "metadata": {
        "id": "F5npDiAXjPbr"
      },
      "execution_count": null,
      "outputs": []
    },
    {
      "cell_type": "code",
      "source": [
        "# 시퀀스 내의 데이터를 인덱스로 접근 할 수 있다.\n",
        "# [] 안에 인덱스를 집어 넣어서 접근!\n",
        "# Hello Hahkyung\n",
        "\n",
        "print(text[6])"
      ],
      "metadata": {
        "colab": {
          "base_uri": "https://localhost:8080/"
        },
        "id": "bYUORNLejd3G",
        "outputId": "5a442a05-288f-49ce-ff75-ecbf675c4796"
      },
      "execution_count": null,
      "outputs": [
        {
          "output_type": "stream",
          "name": "stdout",
          "text": [
            "H\n"
          ]
        }
      ]
    },
    {
      "cell_type": "code",
      "source": [
        "print(text[-1])"
      ],
      "metadata": {
        "colab": {
          "base_uri": "https://localhost:8080/"
        },
        "id": "OWjmRpT_jyLl",
        "outputId": "04108e24-fe7b-41f6-8498-f3aaae14307a"
      },
      "execution_count": null,
      "outputs": [
        {
          "output_type": "stream",
          "name": "stdout",
          "text": [
            "g\n"
          ]
        }
      ]
    },
    {
      "cell_type": "code",
      "source": [
        "print(text[-11])"
      ],
      "metadata": {
        "colab": {
          "base_uri": "https://localhost:8080/"
        },
        "id": "RNAFpK5sj4OM",
        "outputId": "7048fc13-b7c6-4b02-b752-f674e2f93dd5"
      },
      "execution_count": null,
      "outputs": [
        {
          "output_type": "stream",
          "name": "stdout",
          "text": [
            "l\n"
          ]
        }
      ]
    },
    {
      "cell_type": "code",
      "source": [
        "text[14]"
      ],
      "metadata": {
        "colab": {
          "base_uri": "https://localhost:8080/",
          "height": 145
        },
        "id": "ryr5rDBYkAMe",
        "outputId": "8c0ca83e-7d70-41e7-8905-61740fd401bd"
      },
      "execution_count": null,
      "outputs": [
        {
          "output_type": "error",
          "ename": "IndexError",
          "evalue": "string index out of range",
          "traceback": [
            "\u001b[0;31m---------------------------------------------------------------------------\u001b[0m",
            "\u001b[0;31mIndexError\u001b[0m                                Traceback (most recent call last)",
            "\u001b[0;32m<ipython-input-54-4276a337c9bf>\u001b[0m in \u001b[0;36m<cell line: 1>\u001b[0;34m()\u001b[0m\n\u001b[0;32m----> 1\u001b[0;31m \u001b[0mtext\u001b[0m\u001b[0;34m[\u001b[0m\u001b[0;36m14\u001b[0m\u001b[0;34m]\u001b[0m\u001b[0;34m\u001b[0m\u001b[0;34m\u001b[0m\u001b[0m\n\u001b[0m",
            "\u001b[0;31mIndexError\u001b[0m: string index out of range"
          ]
        }
      ]
    },
    {
      "cell_type": "markdown",
      "source": [
        "# 슬라이싱(Slicing) ★★★★★\n",
        "* 인덱스를 사용해서 시퀀스를 **잘라낸다**\n",
        "* 잘라서 **새로운 시퀀스**를 만들어 낸다.\n",
        "* `[start : end : step]`\n",
        "  * `start` ~ `end-1` 부분을 `step`만큼 건너 뛰면서 잘라낸다."
      ],
      "metadata": {
        "id": "8PCiOPGdkSKe"
      }
    },
    {
      "cell_type": "code",
      "source": [
        "text = \"안녕하세요!반갑습니다\"\n",
        "print(text)"
      ],
      "metadata": {
        "id": "Q3OZj-gbm3wG"
      },
      "execution_count": null,
      "outputs": []
    },
    {
      "cell_type": "code",
      "source": [
        "# start -> 0, end -> 3 ==> 0 ~ 2번까지 잘라낸다.\n",
        "text[0 : 3]"
      ],
      "metadata": {
        "id": "hA0MhRRoni6W"
      },
      "execution_count": null,
      "outputs": []
    },
    {
      "cell_type": "code",
      "source": [
        "# end 인덱스의 범위를 벗어나면 자도으로 제일 마지막까지 잘라낸다.\n",
        "text[3 : 500]"
      ],
      "metadata": {
        "id": "87fyG863nvkv"
      },
      "execution_count": null,
      "outputs": []
    },
    {
      "cell_type": "code",
      "source": [
        "# 세요!반갑습\n",
        "text[3 : 9]"
      ],
      "metadata": {
        "colab": {
          "base_uri": "https://localhost:8080/",
          "height": 36
        },
        "id": "SXFFMEoOn_z6",
        "outputId": "41e7f5ae-978c-481d-d331-22624cf3a949"
      },
      "execution_count": null,
      "outputs": [
        {
          "output_type": "execute_result",
          "data": {
            "text/plain": [
              "'lo Hah'"
            ],
            "application/vnd.google.colaboratory.intrinsic+json": {
              "type": "string"
            }
          },
          "metadata": {},
          "execution_count": 55
        }
      ]
    },
    {
      "cell_type": "code",
      "source": [
        "text[3 : -2] # -2-1=-3이니까, 습(-3) 까지 잘린다."
      ],
      "metadata": {
        "colab": {
          "base_uri": "https://localhost:8080/",
          "height": 36
        },
        "id": "IL7tlO7Doi1G",
        "outputId": "afa3e518-bf8b-4699-fcf0-a662f175cd72"
      },
      "execution_count": null,
      "outputs": [
        {
          "output_type": "execute_result",
          "data": {
            "text/plain": [
              "'lo Hahkyu'"
            ],
            "application/vnd.google.colaboratory.intrinsic+json": {
              "type": "string"
            }
          },
          "metadata": {},
          "execution_count": 56
        }
      ]
    },
    {
      "cell_type": "markdown",
      "source": [
        "* `start, end, step`은 생략이 가능하다.\n",
        "* `start`를 생략하면 자동으로 0이 들어간다.\n",
        "* `end`를 생략하면 자동으로 시퀀스의 길이(`len`)가 들어간다."
      ],
      "metadata": {
        "id": "T1SzgDXbo497"
      }
    },
    {
      "cell_type": "code",
      "source": [
        "# end를 생략한 경우\n",
        "text[3 : ] # text[3 : len(text)]"
      ],
      "metadata": {
        "colab": {
          "base_uri": "https://localhost:8080/",
          "height": 36
        },
        "id": "X2ndlkl5pDeB",
        "outputId": "77959a37-e988-4d48-ae72-e35abd96ae2c"
      },
      "execution_count": null,
      "outputs": [
        {
          "output_type": "execute_result",
          "data": {
            "text/plain": [
              "'lo Hahkyung'"
            ],
            "application/vnd.google.colaboratory.intrinsic+json": {
              "type": "string"
            }
          },
          "metadata": {},
          "execution_count": 57
        }
      ]
    },
    {
      "cell_type": "code",
      "source": [
        "# start를 생략한 경우\n",
        "text[:5]"
      ],
      "metadata": {
        "colab": {
          "base_uri": "https://localhost:8080/",
          "height": 36
        },
        "id": "AinYoi_epSpg",
        "outputId": "f9bcf4f2-03e5-49f8-f96e-8982ebc74e78"
      },
      "execution_count": null,
      "outputs": [
        {
          "output_type": "execute_result",
          "data": {
            "text/plain": [
              "'Hello'"
            ],
            "application/vnd.google.colaboratory.intrinsic+json": {
              "type": "string"
            }
          },
          "metadata": {},
          "execution_count": 58
        }
      ]
    },
    {
      "cell_type": "code",
      "source": [
        "text[:]"
      ],
      "metadata": {
        "colab": {
          "base_uri": "https://localhost:8080/",
          "height": 36
        },
        "id": "w9yl9QKTpY7I",
        "outputId": "d26f79cb-f6f0-4698-c534-879f3739120a"
      },
      "execution_count": null,
      "outputs": [
        {
          "output_type": "execute_result",
          "data": {
            "text/plain": [
              "'Hello Hahkyung'"
            ],
            "application/vnd.google.colaboratory.intrinsic+json": {
              "type": "string"
            }
          },
          "metadata": {},
          "execution_count": 59
        }
      ]
    },
    {
      "cell_type": "code",
      "source": [
        "text"
      ],
      "metadata": {
        "colab": {
          "base_uri": "https://localhost:8080/",
          "height": 36
        },
        "id": "XswRKVS5pbqT",
        "outputId": "10a0d301-2e40-4c27-9520-b7bb82173d16"
      },
      "execution_count": null,
      "outputs": [
        {
          "output_type": "execute_result",
          "data": {
            "text/plain": [
              "'Hello Hahkyung'"
            ],
            "application/vnd.google.colaboratory.intrinsic+json": {
              "type": "string"
            }
          },
          "metadata": {},
          "execution_count": 60
        }
      ]
    },
    {
      "cell_type": "code",
      "source": [
        "hex(id(text))"
      ],
      "metadata": {
        "colab": {
          "base_uri": "https://localhost:8080/",
          "height": 36
        },
        "id": "9RTDRGkypm54",
        "outputId": "8a305164-d279-4e08-c475-4219f89d6efd"
      },
      "execution_count": null,
      "outputs": [
        {
          "output_type": "execute_result",
          "data": {
            "text/plain": [
              "'0x7986a6d61c70'"
            ],
            "application/vnd.google.colaboratory.intrinsic+json": {
              "type": "string"
            }
          },
          "metadata": {},
          "execution_count": 61
        }
      ]
    },
    {
      "cell_type": "code",
      "source": [
        "hex(id(text[:]))"
      ],
      "metadata": {
        "colab": {
          "base_uri": "https://localhost:8080/",
          "height": 36
        },
        "id": "TIhxrrsVpwzZ",
        "outputId": "2c32df69-2394-4a8b-bea9-884241b70fbb"
      },
      "execution_count": null,
      "outputs": [
        {
          "output_type": "execute_result",
          "data": {
            "text/plain": [
              "'0x7986a6d61c70'"
            ],
            "application/vnd.google.colaboratory.intrinsic+json": {
              "type": "string"
            }
          },
          "metadata": {},
          "execution_count": 62
        }
      ]
    },
    {
      "cell_type": "code",
      "source": [
        "text[:-5]"
      ],
      "metadata": {
        "colab": {
          "base_uri": "https://localhost:8080/",
          "height": 36
        },
        "id": "iZF5K82iqBrP",
        "outputId": "706f6fe6-a39b-4c1d-fa3e-d93c1ff71b01"
      },
      "execution_count": null,
      "outputs": [
        {
          "output_type": "execute_result",
          "data": {
            "text/plain": [
              "'Hello Hah'"
            ],
            "application/vnd.google.colaboratory.intrinsic+json": {
              "type": "string"
            }
          },
          "metadata": {},
          "execution_count": 63
        }
      ]
    },
    {
      "cell_type": "code",
      "source": [
        "text[-5 : -1]"
      ],
      "metadata": {
        "colab": {
          "base_uri": "https://localhost:8080/",
          "height": 36
        },
        "id": "FJ4OB6o6qhfm",
        "outputId": "7c0fa302-4e09-471f-e2f1-51695dea0dd3"
      },
      "execution_count": null,
      "outputs": [
        {
          "output_type": "execute_result",
          "data": {
            "text/plain": [
              "'kyun'"
            ],
            "application/vnd.google.colaboratory.intrinsic+json": {
              "type": "string"
            }
          },
          "metadata": {},
          "execution_count": 64
        }
      ]
    },
    {
      "cell_type": "code",
      "source": [
        "# 음수 인덱스를 사용하는 것이 양수 인덱스 활용보다 효과적인 경우\n",
        "image_file_full_name = \"my_profile_good_filtered.jpg\"\n",
        "image_file_full_name[:-4]"
      ],
      "metadata": {
        "colab": {
          "base_uri": "https://localhost:8080/",
          "height": 36
        },
        "id": "MrQOvHzlqsAp",
        "outputId": "876bf3ca-31eb-44fc-f63c-9bffe720d60b"
      },
      "execution_count": null,
      "outputs": [
        {
          "output_type": "execute_result",
          "data": {
            "text/plain": [
              "'my_profile_good_filtered'"
            ],
            "application/vnd.google.colaboratory.intrinsic+json": {
              "type": "string"
            }
          },
          "metadata": {},
          "execution_count": 65
        }
      ]
    },
    {
      "cell_type": "markdown",
      "source": [
        "**step**\n",
        "* 지정한 숫자만큼 건너 뛰면서 슬라이싱\n",
        "* `step`을 생략하면 기본적으로 1이 주어진다.\n",
        "* 부호(양수, 음수)를 이용해서 방향 설정도 가능\n",
        "  - 양수 : 정방향(왼쪽에서 오른쪽)\n",
        "  - 음수 : 역방향(오른쪽에서 왼쪽)"
      ],
      "metadata": {
        "id": "B98elxePrQUy"
      }
    },
    {
      "cell_type": "code",
      "source": [
        "text[ : : 2]\n"
      ],
      "metadata": {
        "colab": {
          "base_uri": "https://localhost:8080/",
          "height": 36
        },
        "id": "afd-RD1SrbWF",
        "outputId": "b894a60e-856f-44ac-b83c-b771c4624a03"
      },
      "execution_count": null,
      "outputs": [
        {
          "output_type": "execute_result",
          "data": {
            "text/plain": [
              "'HloHhyn'"
            ],
            "application/vnd.google.colaboratory.intrinsic+json": {
              "type": "string"
            }
          },
          "metadata": {},
          "execution_count": 66
        }
      ]
    },
    {
      "cell_type": "code",
      "source": [
        "# 안녕하세요!반갑습니다\n",
        "text[ : : 3]"
      ],
      "metadata": {
        "colab": {
          "base_uri": "https://localhost:8080/",
          "height": 36
        },
        "id": "O04_q9ENr-0G",
        "outputId": "13a478c9-835f-4764-ea38-2bfc6918f6ef"
      },
      "execution_count": null,
      "outputs": [
        {
          "output_type": "execute_result",
          "data": {
            "text/plain": [
              "'HlHkn'"
            ],
            "application/vnd.google.colaboratory.intrinsic+json": {
              "type": "string"
            }
          },
          "metadata": {},
          "execution_count": 67
        }
      ]
    },
    {
      "cell_type": "code",
      "source": [
        "text[3 : 8 : 2]"
      ],
      "metadata": {
        "colab": {
          "base_uri": "https://localhost:8080/",
          "height": 36
        },
        "id": "zi9JC0o_sMXs",
        "outputId": "c7cdf28f-c8c2-4cbb-8fef-04aff97fabc4"
      },
      "execution_count": null,
      "outputs": [
        {
          "output_type": "execute_result",
          "data": {
            "text/plain": [
              "'l a'"
            ],
            "application/vnd.google.colaboratory.intrinsic+json": {
              "type": "string"
            }
          },
          "metadata": {},
          "execution_count": 68
        }
      ]
    },
    {
      "cell_type": "code",
      "source": [
        "text[::-1]"
      ],
      "metadata": {
        "colab": {
          "base_uri": "https://localhost:8080/",
          "height": 36
        },
        "id": "alnzMex9sfyl",
        "outputId": "55762de0-0fa8-4a54-947e-b94ee52aa1dc"
      },
      "execution_count": null,
      "outputs": [
        {
          "output_type": "execute_result",
          "data": {
            "text/plain": [
              "'gnuykhaH olleH'"
            ],
            "application/vnd.google.colaboratory.intrinsic+json": {
              "type": "string"
            }
          },
          "metadata": {},
          "execution_count": 69
        }
      ]
    },
    {
      "cell_type": "code",
      "source": [
        "text[::-2]"
      ],
      "metadata": {
        "colab": {
          "base_uri": "https://localhost:8080/",
          "height": 36
        },
        "id": "La2YHKFbszS_",
        "outputId": "7aa43e31-0a9d-43d2-ecd2-8fd6fd3c9f63"
      },
      "execution_count": null,
      "outputs": [
        {
          "output_type": "execute_result",
          "data": {
            "text/plain": [
              "'guka le'"
            ],
            "application/vnd.google.colaboratory.intrinsic+json": {
              "type": "string"
            }
          },
          "metadata": {},
          "execution_count": 70
        }
      ]
    },
    {
      "cell_type": "code",
      "source": [
        "text[8 : 3 : -2]"
      ],
      "metadata": {
        "colab": {
          "base_uri": "https://localhost:8080/",
          "height": 36
        },
        "id": "LM_pcqXotGs2",
        "outputId": "48be7956-6d56-42fe-ac88-1e76d1303e62"
      },
      "execution_count": null,
      "outputs": [
        {
          "output_type": "execute_result",
          "data": {
            "text/plain": [
              "'hHo'"
            ],
            "application/vnd.google.colaboratory.intrinsic+json": {
              "type": "string"
            }
          },
          "metadata": {},
          "execution_count": 71
        }
      ]
    },
    {
      "cell_type": "code",
      "source": [
        "text[-3:-8:-2]"
      ],
      "metadata": {
        "colab": {
          "base_uri": "https://localhost:8080/",
          "height": 36
        },
        "id": "DdnofDQ3tTU1",
        "outputId": "570a53dc-d7ef-490a-c891-0bd654eb5a5a"
      },
      "execution_count": null,
      "outputs": [
        {
          "output_type": "execute_result",
          "data": {
            "text/plain": [
              "'uka'"
            ],
            "application/vnd.google.colaboratory.intrinsic+json": {
              "type": "string"
            }
          },
          "metadata": {},
          "execution_count": 72
        }
      ]
    },
    {
      "cell_type": "code",
      "source": [
        "# -1 -2 -3 -4 -5 -6 -7 -8 -9 -10 -11\n",
        "# \"다 니 습 갑 반 !  요  세 하 녕 안\"\n",
        "#  10  9  8  7  6  5  4  3  2  1  0"
      ],
      "metadata": {
        "id": "hiulGcnct0Vm"
      },
      "execution_count": null,
      "outputs": []
    },
    {
      "cell_type": "markdown",
      "source": [
        "# 문자열 함수\n",
        "파이썬에는 문자열을 다룰 수 있는 여러 \"기능(함수)\"를 제공한다."
      ],
      "metadata": {
        "id": "VTkgUUXDt-xU"
      }
    },
    {
      "cell_type": "code",
      "source": [
        "text1 = \"hello\"\n",
        "text2 = \"world\""
      ],
      "metadata": {
        "id": "OSG3_K6J7LVQ"
      },
      "execution_count": null,
      "outputs": []
    },
    {
      "cell_type": "markdown",
      "source": [
        "## 문자열 이어 붙이기"
      ],
      "metadata": {
        "id": "j7jdWTp47ZEm"
      }
    },
    {
      "cell_type": "code",
      "source": [
        "print(text1 + text2)"
      ],
      "metadata": {
        "colab": {
          "base_uri": "https://localhost:8080/"
        },
        "id": "eLwMxMZa7gaV",
        "outputId": "a8fbc2ed-2d12-45d7-8198-400c70a37c66"
      },
      "execution_count": null,
      "outputs": [
        {
          "output_type": "stream",
          "name": "stdout",
          "text": [
            "helloworld\n"
          ]
        }
      ]
    },
    {
      "cell_type": "code",
      "source": [
        "# 문자열 끼리만 이어 붙일 수 있다.\n",
        "text1 + 10"
      ],
      "metadata": {
        "id": "W23n5oFj7ly0",
        "colab": {
          "base_uri": "https://localhost:8080/",
          "height": 163
        },
        "outputId": "27d54451-36f5-4087-d9cd-9532dce1ae3a"
      },
      "execution_count": null,
      "outputs": [
        {
          "output_type": "error",
          "ename": "TypeError",
          "evalue": "can only concatenate str (not \"int\") to str",
          "traceback": [
            "\u001b[0;31m---------------------------------------------------------------------------\u001b[0m",
            "\u001b[0;31mTypeError\u001b[0m                                 Traceback (most recent call last)",
            "\u001b[0;32m<ipython-input-76-445d6a458ce8>\u001b[0m in \u001b[0;36m<cell line: 2>\u001b[0;34m()\u001b[0m\n\u001b[1;32m      1\u001b[0m \u001b[0;31m# 문자열 끼리만 이어 붙일 수 있다.\u001b[0m\u001b[0;34m\u001b[0m\u001b[0;34m\u001b[0m\u001b[0m\n\u001b[0;32m----> 2\u001b[0;31m \u001b[0mtext1\u001b[0m \u001b[0;34m+\u001b[0m \u001b[0;36m10\u001b[0m\u001b[0;34m\u001b[0m\u001b[0;34m\u001b[0m\u001b[0m\n\u001b[0m",
            "\u001b[0;31mTypeError\u001b[0m: can only concatenate str (not \"int\") to str"
          ]
        }
      ]
    },
    {
      "cell_type": "code",
      "source": [
        "text1 + \"10\""
      ],
      "metadata": {
        "colab": {
          "base_uri": "https://localhost:8080/",
          "height": 36
        },
        "id": "iZYXpCWu7uGx",
        "outputId": "bd682d0c-838b-440a-f20a-6e65d8f2e6ba"
      },
      "execution_count": null,
      "outputs": [
        {
          "output_type": "execute_result",
          "data": {
            "text/plain": [
              "'hello10'"
            ],
            "application/vnd.google.colaboratory.intrinsic+json": {
              "type": "string"
            }
          },
          "metadata": {},
          "execution_count": 77
        }
      ]
    },
    {
      "cell_type": "code",
      "source": [
        "text = \"내 나이는 : \"\n",
        "age = 20"
      ],
      "metadata": {
        "id": "I0iXLMyp72Vb"
      },
      "execution_count": null,
      "outputs": []
    },
    {
      "cell_type": "code",
      "source": [
        "# 정수를 문자열 형식으로 자료형을 바꿔줘야 합니다.\n",
        "# 자료형을 바꾸는 행위를 Type Casting이라고 합니다.\n",
        "text + str(age)"
      ],
      "metadata": {
        "colab": {
          "base_uri": "https://localhost:8080/",
          "height": 36
        },
        "id": "uZ7KP5y38Pxh",
        "outputId": "669ae56a-71f8-47a7-d1fb-02f356702a2e"
      },
      "execution_count": null,
      "outputs": [
        {
          "output_type": "execute_result",
          "data": {
            "text/plain": [
              "'내 나이는 : 20'"
            ],
            "application/vnd.google.colaboratory.intrinsic+json": {
              "type": "string"
            }
          },
          "metadata": {},
          "execution_count": 79
        }
      ]
    },
    {
      "cell_type": "markdown",
      "source": [
        "## 문자열 반복하기"
      ],
      "metadata": {
        "id": "6vfZCdlN8dMM"
      }
    },
    {
      "cell_type": "code",
      "source": [
        "# 변수 text1에 들어있는 문자열을 10번 반복한다.\n",
        "text1 * 10"
      ],
      "metadata": {
        "colab": {
          "base_uri": "https://localhost:8080/",
          "height": 36
        },
        "id": "kYfKcy1G8n8a",
        "outputId": "df32f437-36b8-40fe-c4e2-d28c1e2f0762"
      },
      "execution_count": null,
      "outputs": [
        {
          "output_type": "execute_result",
          "data": {
            "text/plain": [
              "'hellohellohellohellohellohellohellohellohellohello'"
            ],
            "application/vnd.google.colaboratory.intrinsic+json": {
              "type": "string"
            }
          },
          "metadata": {},
          "execution_count": 80
        }
      ]
    },
    {
      "cell_type": "code",
      "source": [
        "text1 * 0.8"
      ],
      "metadata": {
        "colab": {
          "base_uri": "https://localhost:8080/",
          "height": 145
        },
        "id": "jYEp1X098uZY",
        "outputId": "3d1ead31-275c-43b4-e162-b2ac8914eff8"
      },
      "execution_count": null,
      "outputs": [
        {
          "output_type": "error",
          "ename": "TypeError",
          "evalue": "can't multiply sequence by non-int of type 'float'",
          "traceback": [
            "\u001b[0;31m---------------------------------------------------------------------------\u001b[0m",
            "\u001b[0;31mTypeError\u001b[0m                                 Traceback (most recent call last)",
            "\u001b[0;32m<ipython-input-81-18eaf8e8cac9>\u001b[0m in \u001b[0;36m<cell line: 1>\u001b[0;34m()\u001b[0m\n\u001b[0;32m----> 1\u001b[0;31m \u001b[0mtext1\u001b[0m \u001b[0;34m*\u001b[0m \u001b[0;36m0.8\u001b[0m\u001b[0;34m\u001b[0m\u001b[0;34m\u001b[0m\u001b[0m\n\u001b[0m",
            "\u001b[0;31mTypeError\u001b[0m: can't multiply sequence by non-int of type 'float'"
          ]
        }
      ]
    },
    {
      "cell_type": "code",
      "source": [
        "text1 * 0"
      ],
      "metadata": {
        "colab": {
          "base_uri": "https://localhost:8080/",
          "height": 36
        },
        "id": "pp6sZuru86lC",
        "outputId": "c34820d9-2e04-4baf-d208-c9c8f234ad04"
      },
      "execution_count": null,
      "outputs": [
        {
          "output_type": "execute_result",
          "data": {
            "text/plain": [
              "''"
            ],
            "application/vnd.google.colaboratory.intrinsic+json": {
              "type": "string"
            }
          },
          "metadata": {},
          "execution_count": 82
        }
      ]
    },
    {
      "cell_type": "markdown",
      "source": [
        "## 대/소문자화"
      ],
      "metadata": {
        "id": "TdYV-O4v9BSg"
      }
    },
    {
      "cell_type": "code",
      "source": [
        "# 모든 문자를 대문자로 만들기 - upper()\n",
        "text2.upper()"
      ],
      "metadata": {
        "colab": {
          "base_uri": "https://localhost:8080/",
          "height": 36
        },
        "id": "AFcJVsTT9FZh",
        "outputId": "215698df-2a65-42ef-ad6c-6984d6b2aae6"
      },
      "execution_count": null,
      "outputs": [
        {
          "output_type": "execute_result",
          "data": {
            "text/plain": [
              "'WORLD'"
            ],
            "application/vnd.google.colaboratory.intrinsic+json": {
              "type": "string"
            }
          },
          "metadata": {},
          "execution_count": 83
        }
      ]
    },
    {
      "cell_type": "code",
      "source": [
        "# 모든 문자를 소문자로 만들기 - lower()\n",
        "\"HELLO!!\".lower()"
      ],
      "metadata": {
        "colab": {
          "base_uri": "https://localhost:8080/",
          "height": 36
        },
        "id": "UswrSLsc9Ip9",
        "outputId": "40d8ab54-3261-415e-8df9-b05a2772208f"
      },
      "execution_count": null,
      "outputs": [
        {
          "output_type": "execute_result",
          "data": {
            "text/plain": [
              "'hello!!'"
            ],
            "application/vnd.google.colaboratory.intrinsic+json": {
              "type": "string"
            }
          },
          "metadata": {},
          "execution_count": 84
        }
      ]
    },
    {
      "cell_type": "markdown",
      "source": [
        "텍스트 데이터(자연어) 처리나 분석을 할 때 자주 사용된다.\n",
        "\n",
        "```\n",
        "1. Hello\n",
        "2. HEllo\n",
        "3. HeLLo\n",
        "4. Bye\n",
        "5. byE\n",
        "\n",
        "사람의 인식 : 헬로우가 3번, 바이가 2번 등장 했구나!\n",
        "컴퓨터의 인식 : Hello 1번, HEllo 1번, HeLLo 1번, Bye 1번, byE 1번\n",
        "\n",
        "따라서 대소문자에 의해 다른 단어로 생각하지 않게 하기 위해서 텍스트 데이터를 소문자나 대문자로 통일합니다. 거의 대부분은 소문자로 통일\n",
        "```"
      ],
      "metadata": {
        "id": "_D6a162T9NzK"
      }
    },
    {
      "cell_type": "markdown",
      "source": [
        "## 문자열 치환\n",
        "치환 : A를 B로 바꾸는 것(replace)"
      ],
      "metadata": {
        "id": "kC1-AZYo9xHk"
      }
    },
    {
      "cell_type": "code",
      "source": [
        "text1.replace(\"h\", \"j\")"
      ],
      "metadata": {
        "colab": {
          "base_uri": "https://localhost:8080/",
          "height": 36
        },
        "id": "H_07mGNB-fXl",
        "outputId": "3a55606d-ef2e-454a-e399-d31fdd594bfe"
      },
      "execution_count": null,
      "outputs": [
        {
          "output_type": "execute_result",
          "data": {
            "text/plain": [
              "'jello'"
            ],
            "application/vnd.google.colaboratory.intrinsic+json": {
              "type": "string"
            }
          },
          "metadata": {},
          "execution_count": 85
        }
      ]
    },
    {
      "cell_type": "code",
      "source": [
        "text1.replace(\"he\", \"jo\")"
      ],
      "metadata": {
        "colab": {
          "base_uri": "https://localhost:8080/",
          "height": 36
        },
        "id": "o_nKJflu-mnx",
        "outputId": "9603d57f-1a09-4039-b53a-fc99ad8df598"
      },
      "execution_count": null,
      "outputs": [
        {
          "output_type": "execute_result",
          "data": {
            "text/plain": [
              "'jollo'"
            ],
            "application/vnd.google.colaboratory.intrinsic+json": {
              "type": "string"
            }
          },
          "metadata": {},
          "execution_count": 86
        }
      ]
    },
    {
      "cell_type": "markdown",
      "source": [
        "## 문자열 포매팅\n",
        "- 템플릿 만들기\n",
        "- 문자열 내의 특정한 값을 변수로부터 동적으로 문자열을 생성"
      ],
      "metadata": {
        "id": "3JwT3JvV-xd7"
      }
    },
    {
      "cell_type": "code",
      "source": [
        "name = \"소민호\"\n",
        "age = 37\n",
        "\n",
        "# 제 이름은 소민호입니다. 나이는 37살입니다.\n",
        "text = \"제 이름은 \" + name + \"입니다. 나이는 \" + str(age) + \"입니다.\"\n",
        "print(text)"
      ],
      "metadata": {
        "colab": {
          "base_uri": "https://localhost:8080/"
        },
        "id": "DSC81hog_LsB",
        "outputId": "b9a088d9-0d90-4559-ca82-9f0e19738251"
      },
      "execution_count": null,
      "outputs": [
        {
          "output_type": "stream",
          "name": "stdout",
          "text": [
            "제 이름은 소민호입니다. 나이는 37입니다.\n"
          ]
        }
      ]
    },
    {
      "cell_type": "code",
      "source": [
        "name = \"김철수\"\n",
        "age = 20\n",
        "\n",
        "# 제 이름은 소민호입니다. 나이는 37살입니다.\n",
        "text = \"제 이름은 \" + name + \"입니다. 나이는 \" + str(age) + \"입니다.\"\n",
        "print(text)"
      ],
      "metadata": {
        "colab": {
          "base_uri": "https://localhost:8080/"
        },
        "id": "97U3G8kAAIqd",
        "outputId": "45aefce0-9ae3-4fd8-d6ce-72f82549403d"
      },
      "execution_count": null,
      "outputs": [
        {
          "output_type": "stream",
          "name": "stdout",
          "text": [
            "제 이름은 김철수입니다. 나이는 20입니다.\n"
          ]
        }
      ]
    },
    {
      "cell_type": "code",
      "source": [
        "# 문자열 포매팅 : 문자열의 형식을 미리 지정해 놓고, 필요할 때 특정 부분을 변경\n",
        "text = \"제 이름은 {}입니다. 나이는 {}입니다.\"\n",
        "print(text)"
      ],
      "metadata": {
        "colab": {
          "base_uri": "https://localhost:8080/"
        },
        "id": "Q4akIzlEAjMm",
        "outputId": "81ccb7f6-0279-4859-c961-d684133d80a1"
      },
      "execution_count": null,
      "outputs": [
        {
          "output_type": "stream",
          "name": "stdout",
          "text": [
            "제 이름은 {}입니다. 나이는 {}입니다.\n"
          ]
        }
      ]
    },
    {
      "cell_type": "code",
      "source": [
        "text.format(name, age)"
      ],
      "metadata": {
        "colab": {
          "base_uri": "https://localhost:8080/",
          "height": 36
        },
        "id": "qoybN-CaBD5i",
        "outputId": "64a16559-17ae-4d46-a58e-3643eb402495"
      },
      "execution_count": null,
      "outputs": [
        {
          "output_type": "execute_result",
          "data": {
            "text/plain": [
              "'제 이름은 김철수입니다. 나이는 20입니다.'"
            ],
            "application/vnd.google.colaboratory.intrinsic+json": {
              "type": "string"
            }
          },
          "metadata": {},
          "execution_count": 92
        }
      ]
    },
    {
      "cell_type": "code",
      "source": [
        "text.format(\"민호\", 37)"
      ],
      "metadata": {
        "colab": {
          "base_uri": "https://localhost:8080/",
          "height": 36
        },
        "id": "r1GxNV3FBR_9",
        "outputId": "fb89620b-cebc-446a-d8ee-13d2c3d09e56"
      },
      "execution_count": null,
      "outputs": [
        {
          "output_type": "execute_result",
          "data": {
            "text/plain": [
              "'제 이름은 민호입니다. 나이는 37입니다.'"
            ],
            "application/vnd.google.colaboratory.intrinsic+json": {
              "type": "string"
            }
          },
          "metadata": {},
          "execution_count": 93
        }
      ]
    },
    {
      "cell_type": "code",
      "source": [
        "text = f\"제 이름은 {name}입니다. 나이는 {age}입니다.\"\n",
        "text"
      ],
      "metadata": {
        "colab": {
          "base_uri": "https://localhost:8080/",
          "height": 36
        },
        "id": "CQIabrERBZ7t",
        "outputId": "6ca78a33-d2b3-4b3c-dadc-853fcd8dd6ef"
      },
      "execution_count": null,
      "outputs": [
        {
          "output_type": "execute_result",
          "data": {
            "text/plain": [
              "'제 이름은 김철수입니다. 나이는 20입니다.'"
            ],
            "application/vnd.google.colaboratory.intrinsic+json": {
              "type": "string"
            }
          },
          "metadata": {},
          "execution_count": 94
        }
      ]
    },
    {
      "cell_type": "markdown",
      "source": [
        "## 문자열 분리(split)\n",
        "- `slice` : 특정 부분을 인덱스를 활용해 **잘라내기**\n",
        "- `split` : 특정 **구분자**를 이용해서 문자열을 **쪼개기**"
      ],
      "metadata": {
        "id": "yIcaMeloBlo9"
      }
    },
    {
      "cell_type": "code",
      "source": [
        "text = \"이제는 많이 추워진 것 같습니다\"\n",
        "text.split(\" \")"
      ],
      "metadata": {
        "colab": {
          "base_uri": "https://localhost:8080/"
        },
        "id": "Uof2-epZCGjW",
        "outputId": "63c9e338-33be-4f8b-acec-24a764e222ca"
      },
      "execution_count": null,
      "outputs": [
        {
          "output_type": "execute_result",
          "data": {
            "text/plain": [
              "['이제는', '많이', '추워진', '것', '같습니다']"
            ]
          },
          "metadata": {},
          "execution_count": 95
        }
      ]
    },
    {
      "cell_type": "code",
      "source": [
        "text = \"#8시간#하루종일#파이썬#더워요#어렵다\"\n",
        "text.split(\"#\")"
      ],
      "metadata": {
        "colab": {
          "base_uri": "https://localhost:8080/"
        },
        "id": "m3A-DrZwCV5w",
        "outputId": "7609b57e-198c-4ef4-da89-4bb6d23a8ab7"
      },
      "execution_count": null,
      "outputs": [
        {
          "output_type": "execute_result",
          "data": {
            "text/plain": [
              "['', '8시간', '하루종일', '파이썬', '더워요', '어렵다']"
            ]
          },
          "metadata": {},
          "execution_count": 96
        }
      ]
    },
    {
      "cell_type": "code",
      "source": [
        "text[1:].split(\"#\")"
      ],
      "metadata": {
        "colab": {
          "base_uri": "https://localhost:8080/"
        },
        "id": "T_KGTBr4CwPx",
        "outputId": "66b48ea9-a22c-4211-e305-eb941aab6c1e"
      },
      "execution_count": null,
      "outputs": [
        {
          "output_type": "execute_result",
          "data": {
            "text/plain": [
              "['8시간', '하루종일', '파이썬', '더워요', '어렵다']"
            ]
          },
          "metadata": {},
          "execution_count": 97
        }
      ]
    },
    {
      "cell_type": "code",
      "source": [
        "# 블로그, SNS등의 자연어를 웹에서 수집하면 띄어쓰기가 많은 문제가 된다.\n",
        "text = \"    느그    서장     남천동  살제     \"\n",
        "text.split()"
      ],
      "metadata": {
        "colab": {
          "base_uri": "https://localhost:8080/"
        },
        "id": "1W_UFXcSC7_3",
        "outputId": "8c23ddda-3fd7-428a-ee08-be9bc9125bfb"
      },
      "execution_count": null,
      "outputs": [
        {
          "output_type": "execute_result",
          "data": {
            "text/plain": [
              "['느그', '서장', '남천동', '살제']"
            ]
          },
          "metadata": {},
          "execution_count": 100
        }
      ]
    },
    {
      "cell_type": "markdown",
      "source": [
        "## 좌우 공백 제거"
      ],
      "metadata": {
        "id": "bVeescDwDasJ"
      }
    },
    {
      "cell_type": "code",
      "source": [
        "text = \"\\n\\n\\nHello!!!\\n\\n\\n\"\n",
        "print(text)"
      ],
      "metadata": {
        "colab": {
          "base_uri": "https://localhost:8080/"
        },
        "id": "jEbeDIWQDrO_",
        "outputId": "fa8c1cb8-c0f5-4628-aed0-d222f1205dd0"
      },
      "execution_count": null,
      "outputs": [
        {
          "output_type": "stream",
          "name": "stdout",
          "text": [
            "\n",
            "\n",
            "\n",
            "Hello!!!\n",
            "\n",
            "\n",
            "\n"
          ]
        }
      ]
    },
    {
      "cell_type": "code",
      "source": [
        "text.strip()"
      ],
      "metadata": {
        "colab": {
          "base_uri": "https://localhost:8080/",
          "height": 36
        },
        "id": "bc3y0_LVDxbG",
        "outputId": "d84353e0-1a45-4e42-f343-aa55e6b2f5e7"
      },
      "execution_count": null,
      "outputs": [
        {
          "output_type": "execute_result",
          "data": {
            "text/plain": [
              "'Hello!!!'"
            ],
            "application/vnd.google.colaboratory.intrinsic+json": {
              "type": "string"
            }
          },
          "metadata": {},
          "execution_count": 102
        }
      ]
    },
    {
      "cell_type": "markdown",
      "source": [
        "## 문자열 합치기\n",
        "- `split`의 반대 개념\n",
        "- 특정 문자열을 기준으로 리스트에 들어있는 문자열을 합쳐주는 역할"
      ],
      "metadata": {
        "id": "6OZWY7xiD8Bo"
      }
    },
    {
      "cell_type": "code",
      "source": [
        "example = [\"Hello\", \"Bye\", \"World\", \"Greeting\"]"
      ],
      "metadata": {
        "id": "ThuQPDswEMBA"
      },
      "execution_count": null,
      "outputs": []
    },
    {
      "cell_type": "code",
      "source": [
        "\"#\".join(example)"
      ],
      "metadata": {
        "colab": {
          "base_uri": "https://localhost:8080/",
          "height": 36
        },
        "id": "CK4YSr5JEQ7g",
        "outputId": "e1def9f5-bfdf-4ac7-9119-eb10421567b8"
      },
      "execution_count": null,
      "outputs": [
        {
          "output_type": "execute_result",
          "data": {
            "text/plain": [
              "'Hello#Bye#World#Greeting'"
            ],
            "application/vnd.google.colaboratory.intrinsic+json": {
              "type": "string"
            }
          },
          "metadata": {},
          "execution_count": 105
        }
      ]
    },
    {
      "cell_type": "markdown",
      "source": [
        "문제\n"
      ],
      "metadata": {
        "id": "5-sFUUj1EhOb"
      }
    },
    {
      "cell_type": "code",
      "source": [
        "tags = \"#오늘 #배고프다 #저녁에 #꼼장어 #먹어 야지\""
      ],
      "metadata": {
        "id": "-vJNthTZE5Gu"
      },
      "execution_count": null,
      "outputs": []
    },
    {
      "cell_type": "code",
      "source": [
        "tags[1:].replace(\" \", \"\").split(\"#\")"
      ],
      "metadata": {
        "colab": {
          "base_uri": "https://localhost:8080/"
        },
        "id": "cTohErsEGlws",
        "outputId": "09333e3b-2265-4484-8dc0-1503cedab51f"
      },
      "execution_count": null,
      "outputs": [
        {
          "output_type": "execute_result",
          "data": {
            "text/plain": [
              "['오늘', '배고프다', '저녁에', '꼼장어', '먹어야지']"
            ]
          },
          "metadata": {},
          "execution_count": 109
        }
      ]
    },
    {
      "cell_type": "markdown",
      "source": [
        "# 형 변환(Type Casting)\n",
        "- 데이터의 자료형을 바꾸는 것\n",
        "-----\n",
        "\n",
        "* int : 정수\n",
        "* float : 실수\n",
        "* str : 문자열\n",
        "* bool : 논리"
      ],
      "metadata": {
        "id": "oY3jEHNnGnoy"
      }
    },
    {
      "cell_type": "code",
      "source": [
        "a = 10 # 정수\n",
        "float(a)"
      ],
      "metadata": {
        "colab": {
          "base_uri": "https://localhost:8080/"
        },
        "id": "NoI2FsgkeeKq",
        "outputId": "efbfe3c0-362d-4646-9019-01b7ed80d7b8"
      },
      "execution_count": null,
      "outputs": [
        {
          "output_type": "execute_result",
          "data": {
            "text/plain": [
              "10.0"
            ]
          },
          "metadata": {},
          "execution_count": 1
        }
      ]
    },
    {
      "cell_type": "code",
      "source": [
        "str(a)"
      ],
      "metadata": {
        "colab": {
          "base_uri": "https://localhost:8080/",
          "height": 36
        },
        "id": "eLaUIC0Ce3eS",
        "outputId": "ad534e48-e6f6-4935-959a-47f81f0d5839"
      },
      "execution_count": null,
      "outputs": [
        {
          "output_type": "execute_result",
          "data": {
            "text/plain": [
              "'10'"
            ],
            "application/vnd.google.colaboratory.intrinsic+json": {
              "type": "string"
            }
          },
          "metadata": {},
          "execution_count": 2
        }
      ]
    },
    {
      "cell_type": "code",
      "source": [
        "bool(a)"
      ],
      "metadata": {
        "colab": {
          "base_uri": "https://localhost:8080/"
        },
        "id": "vOQ01-Jde_Jn",
        "outputId": "47eeae94-1d0e-4324-c9b0-e872d8ecf4c2"
      },
      "execution_count": null,
      "outputs": [
        {
          "output_type": "execute_result",
          "data": {
            "text/plain": [
              "True"
            ]
          },
          "metadata": {},
          "execution_count": 3
        }
      ]
    },
    {
      "cell_type": "code",
      "source": [
        "bool(0)"
      ],
      "metadata": {
        "colab": {
          "base_uri": "https://localhost:8080/"
        },
        "id": "i7umvxpYfEwL",
        "outputId": "4b78e7a2-c94c-4750-bf2e-5b4da0fd6161"
      },
      "execution_count": null,
      "outputs": [
        {
          "output_type": "execute_result",
          "data": {
            "text/plain": [
              "False"
            ]
          },
          "metadata": {},
          "execution_count": 4
        }
      ]
    },
    {
      "cell_type": "code",
      "source": [
        "bool('aa')"
      ],
      "metadata": {
        "colab": {
          "base_uri": "https://localhost:8080/"
        },
        "id": "OcQHT_KefY1W",
        "outputId": "e19c5be7-1daf-4a0d-ba39-a3cfa6ab78f6"
      },
      "execution_count": null,
      "outputs": [
        {
          "output_type": "execute_result",
          "data": {
            "text/plain": [
              "True"
            ]
          },
          "metadata": {},
          "execution_count": 5
        }
      ]
    },
    {
      "cell_type": "code",
      "source": [
        "bool('')"
      ],
      "metadata": {
        "colab": {
          "base_uri": "https://localhost:8080/"
        },
        "id": "y-EMVioQfjdz",
        "outputId": "343bc397-ab23-4998-f3c8-5a4a68069b7b"
      },
      "execution_count": null,
      "outputs": [
        {
          "output_type": "execute_result",
          "data": {
            "text/plain": [
              "False"
            ]
          },
          "metadata": {},
          "execution_count": 6
        }
      ]
    },
    {
      "cell_type": "code",
      "source": [
        "bool(0.0)"
      ],
      "metadata": {
        "colab": {
          "base_uri": "https://localhost:8080/"
        },
        "id": "DBTb2_blfmjR",
        "outputId": "4048aef2-5ff8-4cfb-c5b6-24ed6ecfcbe1"
      },
      "execution_count": null,
      "outputs": [
        {
          "output_type": "execute_result",
          "data": {
            "text/plain": [
              "False"
            ]
          },
          "metadata": {},
          "execution_count": 7
        }
      ]
    },
    {
      "cell_type": "code",
      "source": [
        "# 실수를 정수로\n",
        "a = 10.123123\n",
        "int(a)"
      ],
      "metadata": {
        "colab": {
          "base_uri": "https://localhost:8080/"
        },
        "id": "j3RhAFt7fsxf",
        "outputId": "777034d2-8a5e-4e1c-f10f-a71347c22249"
      },
      "execution_count": null,
      "outputs": [
        {
          "output_type": "execute_result",
          "data": {
            "text/plain": [
              "10"
            ]
          },
          "metadata": {},
          "execution_count": 8
        }
      ]
    },
    {
      "cell_type": "code",
      "source": [
        "int(True)"
      ],
      "metadata": {
        "colab": {
          "base_uri": "https://localhost:8080/"
        },
        "id": "q0mCV7xMgDZi",
        "outputId": "4cf377c3-ce64-4db6-b7b9-9f864a503300"
      },
      "execution_count": null,
      "outputs": [
        {
          "output_type": "execute_result",
          "data": {
            "text/plain": [
              "1"
            ]
          },
          "metadata": {},
          "execution_count": 9
        }
      ]
    },
    {
      "cell_type": "code",
      "source": [
        "int(False)"
      ],
      "metadata": {
        "colab": {
          "base_uri": "https://localhost:8080/"
        },
        "id": "uQvMLqMZgTPz",
        "outputId": "c6a58492-6a5e-4f5b-8543-bb0bc8d815cb"
      },
      "execution_count": null,
      "outputs": [
        {
          "output_type": "execute_result",
          "data": {
            "text/plain": [
              "0"
            ]
          },
          "metadata": {},
          "execution_count": 10
        }
      ]
    },
    {
      "cell_type": "code",
      "source": [
        "True + True"
      ],
      "metadata": {
        "colab": {
          "base_uri": "https://localhost:8080/"
        },
        "id": "50_syTd2gV8z",
        "outputId": "6fc49028-5365-4097-b7a8-bd14e8e65d50"
      },
      "execution_count": null,
      "outputs": [
        {
          "output_type": "execute_result",
          "data": {
            "text/plain": [
              "2"
            ]
          },
          "metadata": {},
          "execution_count": 11
        }
      ]
    },
    {
      "cell_type": "markdown",
      "source": [
        "# 파싱(Parsing) ★★★★★★\n",
        "- **문자열**을 다른 자료형으로 바꾸는 과정"
      ],
      "metadata": {
        "id": "X5BzsBRPgaeh"
      }
    },
    {
      "cell_type": "code",
      "source": [
        "movie1 = \"9.49\"\n",
        "movie2 = \"    9.43   \"\n",
        "movie3 = \"9.34점\""
      ],
      "metadata": {
        "id": "JAGe8TR0go1I"
      },
      "execution_count": null,
      "outputs": []
    },
    {
      "cell_type": "code",
      "source": [
        "float(movie1)"
      ],
      "metadata": {
        "colab": {
          "base_uri": "https://localhost:8080/"
        },
        "id": "bI48bQ4FiAuR",
        "outputId": "cef102fd-b950-49f7-e512-1bdd179e59b8"
      },
      "execution_count": null,
      "outputs": [
        {
          "output_type": "execute_result",
          "data": {
            "text/plain": [
              "9.49"
            ]
          },
          "metadata": {},
          "execution_count": 13
        }
      ]
    },
    {
      "cell_type": "code",
      "source": [
        "float(movie2)"
      ],
      "metadata": {
        "colab": {
          "base_uri": "https://localhost:8080/"
        },
        "id": "avpA8-8TiCc9",
        "outputId": "8235dbc2-0451-4f24-b7bc-2b677426a597"
      },
      "execution_count": null,
      "outputs": [
        {
          "output_type": "execute_result",
          "data": {
            "text/plain": [
              "9.43"
            ]
          },
          "metadata": {},
          "execution_count": 14
        }
      ]
    },
    {
      "cell_type": "code",
      "source": [
        "float(\" 9. 43   \")"
      ],
      "metadata": {
        "colab": {
          "base_uri": "https://localhost:8080/",
          "height": 145
        },
        "id": "gWwXGLNziPaL",
        "outputId": "aee115d9-d1b3-4869-b5e4-ebedb6c309e7"
      },
      "execution_count": null,
      "outputs": [
        {
          "output_type": "error",
          "ename": "ValueError",
          "evalue": "could not convert string to float: ' 9. 43   '",
          "traceback": [
            "\u001b[0;31m---------------------------------------------------------------------------\u001b[0m",
            "\u001b[0;31mValueError\u001b[0m                                Traceback (most recent call last)",
            "\u001b[0;32m<ipython-input-15-818d5065718f>\u001b[0m in \u001b[0;36m<cell line: 1>\u001b[0;34m()\u001b[0m\n\u001b[0;32m----> 1\u001b[0;31m \u001b[0mfloat\u001b[0m\u001b[0;34m(\u001b[0m\u001b[0;34m\" 9. 43   \"\u001b[0m\u001b[0;34m)\u001b[0m\u001b[0;34m\u001b[0m\u001b[0;34m\u001b[0m\u001b[0m\n\u001b[0m",
            "\u001b[0;31mValueError\u001b[0m: could not convert string to float: ' 9. 43   '"
          ]
        }
      ]
    },
    {
      "cell_type": "code",
      "source": [
        "float(movie3)"
      ],
      "metadata": {
        "colab": {
          "base_uri": "https://localhost:8080/",
          "height": 145
        },
        "id": "bArC5YBPiaoE",
        "outputId": "2709fe44-ab76-4863-c531-d4f51d7df0dd"
      },
      "execution_count": null,
      "outputs": [
        {
          "output_type": "error",
          "ename": "ValueError",
          "evalue": "could not convert string to float: '9.34점'",
          "traceback": [
            "\u001b[0;31m---------------------------------------------------------------------------\u001b[0m",
            "\u001b[0;31mValueError\u001b[0m                                Traceback (most recent call last)",
            "\u001b[0;32m<ipython-input-16-0718ae8a5a8f>\u001b[0m in \u001b[0;36m<cell line: 1>\u001b[0;34m()\u001b[0m\n\u001b[0;32m----> 1\u001b[0;31m \u001b[0mfloat\u001b[0m\u001b[0;34m(\u001b[0m\u001b[0mmovie3\u001b[0m\u001b[0;34m)\u001b[0m\u001b[0;34m\u001b[0m\u001b[0;34m\u001b[0m\u001b[0m\n\u001b[0m",
            "\u001b[0;31mValueError\u001b[0m: could not convert string to float: '9.34점'"
          ]
        }
      ]
    },
    {
      "cell_type": "code",
      "source": [
        "movie_score_sum = movie1 + movie2 + movie3\n",
        "movie_score_sum"
      ],
      "metadata": {
        "colab": {
          "base_uri": "https://localhost:8080/",
          "height": 36
        },
        "id": "3-QOl_tNivII",
        "outputId": "dd4e0213-a295-407d-b2ff-7de6f6f7a137"
      },
      "execution_count": null,
      "outputs": [
        {
          "output_type": "execute_result",
          "data": {
            "text/plain": [
              "'9.49    9.43   9.34점'"
            ],
            "application/vnd.google.colaboratory.intrinsic+json": {
              "type": "string"
            }
          },
          "metadata": {},
          "execution_count": 17
        }
      ]
    },
    {
      "cell_type": "code",
      "source": [
        "movie1_score = float(movie1)\n",
        "movie2_score = float(movie2.strip())\n",
        "movie3_score = float(movie3[:-1])\n",
        "\n",
        "movie_score_avg = (movie1_score + movie2_score + movie3_score) / 3\n",
        "movie_score_avg"
      ],
      "metadata": {
        "colab": {
          "base_uri": "https://localhost:8080/"
        },
        "id": "N4V73MlSi4Bv",
        "outputId": "bd6c7a6e-d552-4e52-f565-9a124bfb9da3"
      },
      "execution_count": null,
      "outputs": [
        {
          "output_type": "execute_result",
          "data": {
            "text/plain": [
              "9.42"
            ]
          },
          "metadata": {},
          "execution_count": 18
        }
      ]
    },
    {
      "cell_type": "code",
      "source": [
        "int(movie1)\n"
      ],
      "metadata": {
        "colab": {
          "base_uri": "https://localhost:8080/",
          "height": 145
        },
        "id": "KEF_gksukCbq",
        "outputId": "a20afb5c-6b6d-4baa-a5e7-9879bf4c8402"
      },
      "execution_count": null,
      "outputs": [
        {
          "output_type": "error",
          "ename": "ValueError",
          "evalue": "invalid literal for int() with base 10: '9.49'",
          "traceback": [
            "\u001b[0;31m---------------------------------------------------------------------------\u001b[0m",
            "\u001b[0;31mValueError\u001b[0m                                Traceback (most recent call last)",
            "\u001b[0;32m<ipython-input-19-918bfc37642e>\u001b[0m in \u001b[0;36m<cell line: 1>\u001b[0;34m()\u001b[0m\n\u001b[0;32m----> 1\u001b[0;31m \u001b[0mint\u001b[0m\u001b[0;34m(\u001b[0m\u001b[0mmovie1\u001b[0m\u001b[0;34m)\u001b[0m\u001b[0;34m\u001b[0m\u001b[0;34m\u001b[0m\u001b[0m\n\u001b[0m",
            "\u001b[0;31mValueError\u001b[0m: invalid literal for int() with base 10: '9.49'"
          ]
        }
      ]
    },
    {
      "cell_type": "code",
      "source": [
        "int(float(movie1))"
      ],
      "metadata": {
        "colab": {
          "base_uri": "https://localhost:8080/"
        },
        "id": "StFwaG_ckXz9",
        "outputId": "d2687778-cfe8-442a-8536-e031c2d95f39"
      },
      "execution_count": null,
      "outputs": [
        {
          "output_type": "execute_result",
          "data": {
            "text/plain": [
              "9"
            ]
          },
          "metadata": {},
          "execution_count": 20
        }
      ]
    },
    {
      "cell_type": "code",
      "source": [
        "float(\"10\")"
      ],
      "metadata": {
        "colab": {
          "base_uri": "https://localhost:8080/"
        },
        "id": "RtcRjBHNkoY0",
        "outputId": "dbdce343-29f4-4105-c484-d7f8e567f48a"
      },
      "execution_count": null,
      "outputs": [
        {
          "output_type": "execute_result",
          "data": {
            "text/plain": [
              "10.0"
            ]
          },
          "metadata": {},
          "execution_count": 21
        }
      ]
    },
    {
      "cell_type": "code",
      "source": [],
      "metadata": {
        "id": "RA2tTmrgk56B"
      },
      "execution_count": null,
      "outputs": []
    }
  ]
}